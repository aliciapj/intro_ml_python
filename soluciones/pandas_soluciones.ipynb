{
 "cells": [
  {
   "cell_type": "markdown",
   "metadata": {},
   "source": [
    "#### 0. Import `numpy as np` and `pandas as pd` and print the pandas' version number"
   ]
  },
  {
   "cell_type": "code",
   "execution_count": 1,
   "metadata": {},
   "outputs": [
    {
     "name": "stdout",
     "output_type": "stream",
     "text": [
      "0.24.1\n"
     ]
    }
   ],
   "source": [
    "import numpy as np\n",
    "import pandas as pd\n",
    "print(pd.__version__)"
   ]
  },
  {
   "cell_type": "markdown",
   "metadata": {},
   "source": [
    "## L1"
   ]
  },
  {
   "cell_type": "markdown",
   "metadata": {},
   "source": [
    "#### 1. Crea una serie a partir de una lista, un array numpy y un diccionario\n",
    "\n",
    "Input: \n",
    "```\n",
    "mylist = list('abcedfghijklmnopqrstuvwxyz')\n",
    "myarr = np.arange(26)\n",
    "mydict = dict(zip(mylist, myarr))\n",
    "```\n",
    "\n",
    "Output (head):\n",
    "```\n",
    "0    a\n",
    "1    b\n",
    "2    c\n",
    "3    e\n",
    "4    d\n",
    "dtype: object\n",
    "\n",
    "0    0\n",
    "1    1\n",
    "2    2\n",
    "3    3\n",
    "4    4\n",
    "dtype: int64\n",
    "\n",
    "a    0\n",
    "b    1\n",
    "c    2\n",
    "e    3\n",
    "d    4\n",
    "dtype: int64\n",
    "```"
   ]
  },
  {
   "cell_type": "code",
   "execution_count": 2,
   "metadata": {},
   "outputs": [
    {
     "name": "stdout",
     "output_type": "stream",
     "text": [
      "0    a\n",
      "1    b\n",
      "2    c\n",
      "3    e\n",
      "4    d\n",
      "dtype: object\n",
      "\n",
      "0    0\n",
      "1    1\n",
      "2    2\n",
      "3    3\n",
      "4    4\n",
      "dtype: int64\n",
      "\n",
      "a    0\n",
      "b    1\n",
      "c    2\n",
      "e    3\n",
      "d    4\n",
      "dtype: int64\n",
      "\n"
     ]
    }
   ],
   "source": [
    "# Inputs\n",
    "import numpy as np\n",
    "mylist = list('abcedfghijklmnopqrstuvwxyz')\n",
    "myarr = np.arange(26)\n",
    "mydict = dict(zip(mylist, myarr))\n",
    "\n",
    "# Solution\n",
    "ser1 = pd.Series(mylist)\n",
    "ser2 = pd.Series(myarr)\n",
    "ser3 = pd.Series(mydict)\n",
    "\n",
    "print(ser1.head())\n",
    "print()\n",
    "print(ser2.head())\n",
    "print()\n",
    "print(ser3.head())\n",
    "print()"
   ]
  },
  {
   "cell_type": "markdown",
   "metadata": {},
   "source": [
    "#### 2. Convierte una serie en un dataframe cuyo índice es otra columna del dataset distinta a la de la serie\n",
    "\n",
    "Input:\n",
    "```\n",
    "mylist = list('abcedfghijklmnopqrstuvwxyz')\n",
    "myarr = np.arange(26)\n",
    "mydict = dict(zip(mylist, myarr))\n",
    "ser = pd.Series(mydict)\n",
    "```\n",
    "\n",
    "Output (head):\n",
    "```\n",
    "  index  0\n",
    "0     a  0\n",
    "1     b  1\n",
    "2     c  2\n",
    "3     e  3\n",
    "4     d  4\n",
    "```"
   ]
  },
  {
   "cell_type": "code",
   "execution_count": 12,
   "metadata": {},
   "outputs": [
    {
     "name": "stdout",
     "output_type": "stream",
     "text": [
      "  index  0\n",
      "0     a  0\n",
      "1     b  1\n",
      "2     c  2\n",
      "3     e  3\n",
      "4     d  4\n"
     ]
    }
   ],
   "source": [
    "import numpy as np\n",
    "import pandas as pd\n",
    "mylist = list('abcedfghijklmnopqrstuvwxyz')\n",
    "myarr = np.arange(26)\n",
    "mydict = dict(zip(mylist, myarr))\n",
    "ser = pd.Series(mydict)\n",
    "\n",
    "df = ser.to_frame().reset_index()\n",
    "print(df.head())"
   ]
  },
  {
   "cell_type": "markdown",
   "metadata": {},
   "source": [
    "#### 3. Combina dos series en un dataframe\n",
    "\n",
    "Input:\n",
    "```\n",
    "ser1 = pd.Series(list('abcedfghijklmnopqrstuvwxyz'))\n",
    "ser2 = pd.Series(np.arange(26))\n",
    "```\n",
    "\n",
    "Output (head(10)):\n",
    "```\n",
    "\t0\t1\n",
    "0\ta\t0\n",
    "1\tb\t1\n",
    "2\tc\t2\n",
    "3\te\t3\n",
    "4\td\t4\n",
    "5\tf\t5\n",
    "6\tg\t6\n",
    "7\th\t7\n",
    "8\ti\t8\n",
    "9\tj\t9\n",
    "```"
   ]
  },
  {
   "cell_type": "code",
   "execution_count": 4,
   "metadata": {},
   "outputs": [
    {
     "data": {
      "text/html": [
       "<div>\n",
       "<style scoped>\n",
       "    .dataframe tbody tr th:only-of-type {\n",
       "        vertical-align: middle;\n",
       "    }\n",
       "\n",
       "    .dataframe tbody tr th {\n",
       "        vertical-align: top;\n",
       "    }\n",
       "\n",
       "    .dataframe thead th {\n",
       "        text-align: right;\n",
       "    }\n",
       "</style>\n",
       "<table border=\"1\" class=\"dataframe\">\n",
       "  <thead>\n",
       "    <tr style=\"text-align: right;\">\n",
       "      <th></th>\n",
       "      <th>0</th>\n",
       "      <th>1</th>\n",
       "    </tr>\n",
       "  </thead>\n",
       "  <tbody>\n",
       "    <tr>\n",
       "      <th>0</th>\n",
       "      <td>a</td>\n",
       "      <td>0</td>\n",
       "    </tr>\n",
       "    <tr>\n",
       "      <th>1</th>\n",
       "      <td>b</td>\n",
       "      <td>1</td>\n",
       "    </tr>\n",
       "    <tr>\n",
       "      <th>2</th>\n",
       "      <td>c</td>\n",
       "      <td>2</td>\n",
       "    </tr>\n",
       "    <tr>\n",
       "      <th>3</th>\n",
       "      <td>e</td>\n",
       "      <td>3</td>\n",
       "    </tr>\n",
       "    <tr>\n",
       "      <th>4</th>\n",
       "      <td>d</td>\n",
       "      <td>4</td>\n",
       "    </tr>\n",
       "    <tr>\n",
       "      <th>5</th>\n",
       "      <td>f</td>\n",
       "      <td>5</td>\n",
       "    </tr>\n",
       "    <tr>\n",
       "      <th>6</th>\n",
       "      <td>g</td>\n",
       "      <td>6</td>\n",
       "    </tr>\n",
       "    <tr>\n",
       "      <th>7</th>\n",
       "      <td>h</td>\n",
       "      <td>7</td>\n",
       "    </tr>\n",
       "    <tr>\n",
       "      <th>8</th>\n",
       "      <td>i</td>\n",
       "      <td>8</td>\n",
       "    </tr>\n",
       "    <tr>\n",
       "      <th>9</th>\n",
       "      <td>j</td>\n",
       "      <td>9</td>\n",
       "    </tr>\n",
       "  </tbody>\n",
       "</table>\n",
       "</div>"
      ],
      "text/plain": [
       "   0  1\n",
       "0  a  0\n",
       "1  b  1\n",
       "2  c  2\n",
       "3  e  3\n",
       "4  d  4\n",
       "5  f  5\n",
       "6  g  6\n",
       "7  h  7\n",
       "8  i  8\n",
       "9  j  9"
      ]
     },
     "execution_count": 4,
     "metadata": {},
     "output_type": "execute_result"
    }
   ],
   "source": [
    "ser1 = pd.Series(list('abcedfghijklmnopqrstuvwxyz'))\n",
    "ser2 = pd.Series(np.arange(26))\n",
    "\n",
    "pd.concat([ser1, ser2], axis=1).head(10)"
   ]
  },
  {
   "cell_type": "markdown",
   "metadata": {},
   "source": [
    "#### 4. Calcular la diferencia de las diferencias entre números consecutivos de una serie\n",
    "\n",
    "Input:\n",
    "```\n",
    "ser = pd.Series([1, 3, 6, 10, 15, 21, 27, 35])\n",
    "```\n",
    "\n",
    "Output:\n",
    "```\n",
    "[nan, 2.0, 3.0, 4.0, 5.0, 6.0, 6.0, 8.0]\n",
    "[nan, nan, 1.0, 1.0, 1.0, 1.0, 0.0, 2.0]\n",
    "```\n"
   ]
  },
  {
   "cell_type": "code",
   "execution_count": 5,
   "metadata": {},
   "outputs": [
    {
     "name": "stdout",
     "output_type": "stream",
     "text": [
      "[nan, 2.0, 3.0, 4.0, 5.0, 6.0, 6.0, 8.0]\n",
      "[nan, nan, 1.0, 1.0, 1.0, 1.0, 0.0, 2.0]\n"
     ]
    }
   ],
   "source": [
    "ser = pd.Series([1, 3, 6, 10, 15, 21, 27, 35])\n",
    "\n",
    "print(ser.diff().tolist())\n",
    "print(ser.diff().diff().tolist())"
   ]
  },
  {
   "cell_type": "markdown",
   "metadata": {},
   "source": [
    "#### 5. Importar sólo las columnas `crim` y `medv` del dataset BostonHousing\n",
    "\n",
    "Input:\n",
    "```\n",
    "url = 'https://raw.githubusercontent.com/selva86/datasets/master/BostonHousing.csv'\n",
    "```\n",
    "\n",
    "Output (head):\n",
    "```\n",
    "      crim  medv\n",
    "0  0.00632  24.0\n",
    "1  0.02731  21.6\n",
    "2  0.02729  34.7\n",
    "3  0.03237  33.4\n",
    "4  0.06905  36.2\n",
    "```"
   ]
  },
  {
   "cell_type": "code",
   "execution_count": 6,
   "metadata": {},
   "outputs": [
    {
     "name": "stdout",
     "output_type": "stream",
     "text": [
      "      crim  medv\n",
      "0  0.00632  24.0\n",
      "1  0.02731  21.6\n",
      "2  0.02729  34.7\n",
      "3  0.03237  33.4\n",
      "4  0.06905  36.2\n"
     ]
    }
   ],
   "source": [
    "url = 'https://raw.githubusercontent.com/selva86/datasets/master/BostonHousing.csv'\n",
    "\n",
    "df = pd.read_csv(url, usecols=['crim', 'medv'])\n",
    "print(df.head())"
   ]
  },
  {
   "cell_type": "markdown",
   "metadata": {},
   "source": [
    "#### 6.1 BostonHousing: ¿Qué fabricante, modelo y tipo tienen el precio más alto?\n",
    "\n",
    "Input:\n",
    "```\n",
    "df = pd.read_csv('https://raw.githubusercontent.com/selva86/datasets/master/Cars93_miss.csv')\n",
    "```\n",
    "\n",
    "Output:\n",
    "```\n",
    "Mercedes-Benz\t300E\tMidsize\n",
    "```"
   ]
  },
  {
   "cell_type": "code",
   "execution_count": 7,
   "metadata": {},
   "outputs": [
    {
     "data": {
      "text/html": [
       "<div>\n",
       "<style scoped>\n",
       "    .dataframe tbody tr th:only-of-type {\n",
       "        vertical-align: middle;\n",
       "    }\n",
       "\n",
       "    .dataframe tbody tr th {\n",
       "        vertical-align: top;\n",
       "    }\n",
       "\n",
       "    .dataframe thead th {\n",
       "        text-align: right;\n",
       "    }\n",
       "</style>\n",
       "<table border=\"1\" class=\"dataframe\">\n",
       "  <thead>\n",
       "    <tr style=\"text-align: right;\">\n",
       "      <th></th>\n",
       "      <th>Manufacturer</th>\n",
       "      <th>Model</th>\n",
       "      <th>Type</th>\n",
       "      <th>Price</th>\n",
       "    </tr>\n",
       "  </thead>\n",
       "  <tbody>\n",
       "    <tr>\n",
       "      <th>58</th>\n",
       "      <td>Mercedes-Benz</td>\n",
       "      <td>300E</td>\n",
       "      <td>Midsize</td>\n",
       "      <td>61.9</td>\n",
       "    </tr>\n",
       "  </tbody>\n",
       "</table>\n",
       "</div>"
      ],
      "text/plain": [
       "     Manufacturer Model     Type  Price\n",
       "58  Mercedes-Benz  300E  Midsize   61.9"
      ]
     },
     "execution_count": 7,
     "metadata": {},
     "output_type": "execute_result"
    }
   ],
   "source": [
    "df = pd.read_csv('https://raw.githubusercontent.com/selva86/datasets/master/Cars93_miss.csv')\n",
    "\n",
    "# Get Manufacturer with highest price\n",
    "df.loc[df.Price == np.max(df.Price), ['Manufacturer', 'Model', 'Type', 'Price']]\n"
   ]
  },
  {
   "cell_type": "markdown",
   "metadata": {},
   "source": [
    "#### 6.2 BostonHousing: ¿Cuál es el índice de la fila y columna de la celda con el mayor precio del paso anterior?\n",
    "\n",
    "Input:\n",
    "```\n",
    "df = pd.read_csv('https://raw.githubusercontent.com/selva86/datasets/master/Cars93_miss.csv')\n",
    "```\n",
    "\n",
    "Output:\n",
    "```\n",
    "58, 4\n",
    "```"
   ]
  },
  {
   "cell_type": "code",
   "execution_count": 8,
   "metadata": {},
   "outputs": [
    {
     "name": "stdout",
     "output_type": "stream",
     "text": [
      "58 4\n"
     ]
    }
   ],
   "source": [
    "# Get Row and Column number\n",
    "row, col = np.where(df.values == np.max(df.Price))\n",
    "print(row[0], col[0])"
   ]
  },
  {
   "cell_type": "markdown",
   "metadata": {},
   "source": [
    "#### 7. BostonHousing: Filtra el fabricante, modelo y tipo de cada 20 filas empezando por la primera (fila 0)\n",
    "\n",
    "Input:\n",
    "```\n",
    "df = pd.read_csv('https://raw.githubusercontent.com/selva86/datasets/master/Cars93_miss.csv')\n",
    "```\n",
    "\n",
    "Output:\n",
    "```\n",
    "   Manufacturer    Model     Type\n",
    "0         Acura  Integra    Small\n",
    "20     Chrysler  LeBaron  Compact\n",
    "40        Honda  Prelude   Sporty\n",
    "60      Mercury   Cougar  Midsize\n",
    "80       Subaru   Loyale    Small\n",
    "```"
   ]
  },
  {
   "cell_type": "code",
   "execution_count": 9,
   "metadata": {},
   "outputs": [
    {
     "name": "stdout",
     "output_type": "stream",
     "text": [
      "   Manufacturer    Model     Type\n",
      "0         Acura  Integra    Small\n",
      "20     Chrysler  LeBaron  Compact\n",
      "40        Honda  Prelude   Sporty\n",
      "60      Mercury   Cougar  Midsize\n",
      "80       Subaru   Loyale    Small\n"
     ]
    }
   ],
   "source": [
    "df = pd.read_csv('https://raw.githubusercontent.com/selva86/datasets/master/Cars93_miss.csv')\n",
    "\n",
    "print(df.iloc[::20, :][['Manufacturer', 'Model', 'Type']])"
   ]
  },
  {
   "cell_type": "markdown",
   "metadata": {},
   "source": [
    "#### 8. Calcula el precio medio de cada fruta manteniendo el índice\n",
    "\n",
    "Input:\n",
    "```\n",
    "df = pd.DataFrame({'fruit': ['apple', 'banana', 'orange'] * 3,\n",
    "                   'rating': np.random.rand(9),\n",
    "                   'price': np.random.randint(0, 15, 9)})\n",
    "```\n",
    "\n",
    "Output:\n",
    "```\n",
    "    fruit     price\n",
    "0   apple  5.333333\n",
    "1  banana  8.666667\n",
    "2  orange  2.666667\n",
    "```"
   ]
  },
  {
   "cell_type": "code",
   "execution_count": 10,
   "metadata": {},
   "outputs": [
    {
     "name": "stdout",
     "output_type": "stream",
     "text": [
      "    fruit     price\n",
      "0   apple  9.666667\n",
      "1  banana  7.333333\n",
      "2  orange  4.000000\n"
     ]
    }
   ],
   "source": [
    "df = pd.DataFrame({'fruit': ['apple', 'banana', 'orange'] * 3,\n",
    "                   'rating': np.random.rand(9),\n",
    "                   'price': np.random.randint(0, 15, 9)})\n",
    "\n",
    "out = df.groupby('fruit', as_index=False)['price'].mean()\n",
    "print(out)"
   ]
  },
  {
   "cell_type": "markdown",
   "metadata": {},
   "source": [
    "#### 9. Obtén los elementos que se encuentran en las filas indicadas en `list_pos`\n",
    "\n",
    "Input:\n",
    "```\n",
    "ser = pd.Series(list('abcdefghijklmnopqrstuvwxyz'))\n",
    "pos = [0, 4, 8, 14, 20]\n",
    "```\n",
    "\n",
    "Output:\n",
    "```\n",
    "0     a\n",
    "4     e\n",
    "8     i\n",
    "14    o\n",
    "20    u\n",
    "dtype: object\n",
    "```"
   ]
  },
  {
   "cell_type": "code",
   "execution_count": 11,
   "metadata": {},
   "outputs": [
    {
     "data": {
      "text/plain": [
       "0     a\n",
       "4     e\n",
       "8     i\n",
       "14    o\n",
       "20    u\n",
       "dtype: object"
      ]
     },
     "execution_count": 11,
     "metadata": {},
     "output_type": "execute_result"
    }
   ],
   "source": [
    "ser = pd.Series(list('abcdefghijklmnopqrstuvwxyz'))\n",
    "pos = [0, 4, 8, 14, 20]\n",
    "\n",
    "ser.take(pos)"
   ]
  },
  {
   "cell_type": "markdown",
   "metadata": {},
   "source": [
    "## L2"
   ]
  },
  {
   "cell_type": "markdown",
   "metadata": {},
   "source": [
    "#### 10. Elimina de ser1 los items de ser2\n",
    "\n",
    "Input:\n",
    "```\n",
    "ser1 = pd.Series([1, 2, 3, 4, 5])\n",
    "ser2 = pd.Series([4, 5, 6, 7, 8])\n",
    "```\n",
    "\n",
    "Output:\n",
    "```\n",
    "0    1\n",
    "1    2\n",
    "2    3\n",
    "dtype: int64\n",
    "```"
   ]
  },
  {
   "cell_type": "code",
   "execution_count": 12,
   "metadata": {},
   "outputs": [
    {
     "data": {
      "text/plain": [
       "0    1\n",
       "1    2\n",
       "2    3\n",
       "dtype: int64"
      ]
     },
     "execution_count": 12,
     "metadata": {},
     "output_type": "execute_result"
    }
   ],
   "source": [
    "ser1 = pd.Series([1, 2, 3, 4, 5])\n",
    "ser2 = pd.Series([4, 5, 6, 7, 8])\n",
    "\n",
    "ser1[~ser1.isin(ser2)]"
   ]
  },
  {
   "cell_type": "markdown",
   "metadata": {},
   "source": [
    "#### 11. Obtén los elementos no comunes entre 2 series\n",
    "\n",
    "Input:\n",
    "```\n",
    "ser1 = pd.Series([1, 2, 3, 4, 5])\n",
    "ser2 = pd.Series([4, 5, 6, 7, 8])\n",
    "```\n",
    "\n",
    "Output:\n",
    "```\n",
    "0    1\n",
    "1    2\n",
    "2    3\n",
    "5    6\n",
    "6    7\n",
    "7    8\n",
    "dtype: int64\n",
    "```"
   ]
  },
  {
   "cell_type": "code",
   "execution_count": 13,
   "metadata": {},
   "outputs": [
    {
     "data": {
      "text/plain": [
       "0    1\n",
       "1    2\n",
       "2    3\n",
       "5    6\n",
       "6    7\n",
       "7    8\n",
       "dtype: int64"
      ]
     },
     "execution_count": 13,
     "metadata": {},
     "output_type": "execute_result"
    }
   ],
   "source": [
    "ser1 = pd.Series([1, 2, 3, 4, 5])\n",
    "ser2 = pd.Series([4, 5, 6, 7, 8])\n",
    "\n",
    "ser_u = pd.Series(np.union1d(ser1, ser2))  # union\n",
    "ser_i = pd.Series(np.intersect1d(ser1, ser2))  # intersect\n",
    "\n",
    "ser_u[~ser_u.isin(ser_i)]"
   ]
  },
  {
   "cell_type": "markdown",
   "metadata": {},
   "source": [
    "#### 12. Obtener el mínimo, percentil 25, mediana, percentil 75, y máximo valor de un set\n",
    "\n",
    "Input:\n",
    "```\n",
    "ser = pd.Series(np.random.normal(10, 5, 25))\n",
    "```\n",
    "\n",
    "Output:\n",
    "```\n",
    "array([ 1.25117263,  7.70986507, 10.92259345, 13.36360403, 18.0949083 ])\n",
    "```\n",
    "(*) Los valores pueden variar al ser random"
   ]
  },
  {
   "cell_type": "code",
   "execution_count": 15,
   "metadata": {},
   "outputs": [
    {
     "data": {
      "text/plain": [
       "array([-2.20053567,  5.10692438,  9.77501536, 11.59371045, 20.08666502])"
      ]
     },
     "execution_count": 15,
     "metadata": {},
     "output_type": "execute_result"
    }
   ],
   "source": [
    "ser = pd.Series(np.random.normal(10, 5, 25))\n",
    "\n",
    "# Solution\n",
    "np.percentile(ser, q=[0, 25, 50, 75, 100])"
   ]
  },
  {
   "cell_type": "markdown",
   "metadata": {},
   "source": [
    "#### 13. Dada una serie, mantener los 2 valores más frecuentes y sustituir el resto por el valor `Other`\n",
    "\n",
    "Input:\n",
    "```\n",
    "ser = pd.Series(np.random.randint(1, 5, [12]))\n",
    "```\n",
    "\n",
    "Output:\n",
    "```\n",
    "Top Freq: \n",
    "4    5\n",
    "3    3\n",
    "2    2\n",
    "1    2\n",
    "dtype: int64\n",
    "\n",
    "Result:\n",
    "0     Other\n",
    "1     Other\n",
    "2         3\n",
    "3         4\n",
    "4     Other\n",
    "5         4\n",
    "```\n",
    "(*) Los valores pueden variar al ser random"
   ]
  },
  {
   "cell_type": "code",
   "execution_count": 19,
   "metadata": {},
   "outputs": [
    {
     "name": "stdout",
     "output_type": "stream",
     "text": [
      "Top Freq:\n",
      "2    4\n",
      "3    3\n",
      "1    3\n",
      "4    2\n",
      "dtype: int64\n",
      "\n",
      "0     Other\n",
      "1         2\n",
      "2         2\n",
      "3         3\n",
      "4     Other\n",
      "5         3\n",
      "6         2\n",
      "7     Other\n",
      "8         3\n",
      "9         2\n",
      "10    Other\n",
      "11    Other\n",
      "dtype: object\n"
     ]
    }
   ],
   "source": [
    "ser = pd.Series(np.random.randint(1, 5, [12]))\n",
    "\n",
    "print(f'Top Freq:\\n{ser.value_counts()}\\n')\n",
    "ser[~ser.isin(ser.value_counts().index[:2])] = 'Other'\n",
    "\n",
    "print(ser)"
   ]
  },
  {
   "cell_type": "markdown",
   "metadata": {},
   "source": [
    "#### 14. Coloca la serie en 10 grupos de 10 elementos iguales y reemplaza los valores con el nombre del grupo\n",
    "\n",
    "Input\n",
    "```\n",
    "ser = pd.Series(np.random.random(20))\n",
    "```\n",
    "\n",
    "Output:\n",
    "```\n",
    "# First 5 items\n",
    "0    7th\n",
    "1    9th\n",
    "2    7th\n",
    "3    3rd\n",
    "4    8th\n",
    "dtype: category\n",
    "Categories (10, object): [1st < 2nd < 3rd < 4th ... 7th < 8th < 9th < 10th]\n",
    "```\n",
    "(*) Los valores pueden variar al ser random"
   ]
  },
  {
   "cell_type": "code",
   "execution_count": 21,
   "metadata": {},
   "outputs": [
    {
     "name": "stdout",
     "output_type": "stream",
     "text": [
      "0    0.305319\n",
      "1    0.004122\n",
      "2    0.604869\n",
      "3    0.502177\n",
      "4    0.127109\n",
      "dtype: float64\n"
     ]
    },
    {
     "data": {
      "text/plain": [
       "0    5th\n",
       "1    1st\n",
       "2    7th\n",
       "3    6th\n",
       "4    2nd\n",
       "dtype: category\n",
       "Categories (10, object): [1st < 2nd < 3rd < 4th ... 7th < 8th < 9th < 10th]"
      ]
     },
     "execution_count": 21,
     "metadata": {},
     "output_type": "execute_result"
    }
   ],
   "source": [
    "ser = pd.Series(np.random.random(20))\n",
    "print(ser.head())\n",
    "\n",
    "pd.qcut(ser, q=[0, .10, .20, .3, .4, .5, .6, .7, .8, .9, 1], \n",
    "        labels=['1st', '2nd', '3rd', '4th', '5th', '6th', '7th', '8th', '9th', '10th']).head()"
   ]
  },
  {
   "cell_type": "markdown",
   "metadata": {},
   "source": [
    "#### 15. Crear 2 nuevas columnas en df, una con el lag1 (el valor de la columna `a` en la fila siguiente a cada celda) y la otra con el lead1 (valor de la columna `b` en la fila anterior a cada celda)\n",
    "\n",
    "Input:\n",
    "```\n",
    "df = pd.DataFrame(np.random.randint(1, 100, 20).reshape(-1, 4), columns = list('abcd'))\n",
    "\n",
    "    a   b   c   d\n",
    "0  66  34  76  47\n",
    "1  20  86  10  81\n",
    "2  75  73  51  28\n",
    "3   1   1   9  83\n",
    "4  30  47  67   4\n",
    "```\n",
    "\n",
    "Output:\n",
    "```\n",
    "    a   b   c   d  a_lag1  b_lead1\n",
    "0  66  34  76  47     NaN     86.0\n",
    "1  20  86  10  81    66.0     73.0\n",
    "2  75  73  51  28    20.0      1.0\n",
    "3   1   1   9  83    75.0     47.0\n",
    "4  30  47  67   4     1.0      NaN\n",
    "```\n",
    "(*) Los valores pueden variar al ser random"
   ]
  },
  {
   "cell_type": "code",
   "execution_count": 23,
   "metadata": {},
   "outputs": [
    {
     "name": "stdout",
     "output_type": "stream",
     "text": [
      "    a   b   c   d  a_lag1  b_lead1\n",
      "0  46  52  82  68     NaN     44.0\n",
      "1  43  44  71  67    46.0     75.0\n",
      "2  37  75  56  60    43.0     77.0\n",
      "3  96  77  18  61    37.0     46.0\n",
      "4  36  46  13  89    96.0      NaN\n"
     ]
    }
   ],
   "source": [
    "df = pd.DataFrame(np.random.randint(1, 100, 20).reshape(-1, 4), columns = list('abcd'))\n",
    "\n",
    "df['a_lag1'] = df['a'].shift(1)\n",
    "df['b_lead1'] = df['b'].shift(-1)\n",
    "print(df)"
   ]
  },
  {
   "cell_type": "markdown",
   "metadata": {},
   "source": [
    "#### 16. Encontrar el 2º valor más alto para la columna `taste` en `bananas`\n",
    "\n",
    "Input:\n",
    "```\n",
    "df = pd.DataFrame({'fruit': ['apple', 'banana', 'orange'] * 3,\n",
    "                   'price': np.random.randint(0, 15, 9),\n",
    "                   'taste': np.random.rand(9)})\n",
    "```\n",
    "\n",
    "Output:\n",
    "```\n",
    "    fruit  price     taste\n",
    "0   apple      7  0.190229\n",
    "1  banana      2  0.438063\n",
    "2  orange      1  0.860182\n",
    "3   apple      6  0.042149\n",
    "4  banana      2  0.896021\n",
    "5  orange      5  0.255107\n",
    "6   apple      6  0.874533\n",
    "7  banana      4  0.696274\n",
    "8  orange      9  0.140713\n",
    "\n",
    "0.69627423645996078\n",
    "```\n",
    "(*) Los valores pueden variar al ser random"
   ]
  },
  {
   "cell_type": "code",
   "execution_count": 29,
   "metadata": {},
   "outputs": [
    {
     "name": "stdout",
     "output_type": "stream",
     "text": [
      "    fruit  price     taste\n",
      "0   apple     13  0.972968\n",
      "1  banana      9  0.273028\n",
      "2  orange      2  0.050930\n",
      "3   apple      0  0.093501\n",
      "4  banana      4  0.477334\n",
      "5  orange      6  0.974153\n",
      "6   apple     10  0.680088\n",
      "7  banana     12  0.748994\n",
      "8  orange      0  0.532081\n"
     ]
    },
    {
     "data": {
      "text/plain": [
       "0.477333625073152"
      ]
     },
     "execution_count": 29,
     "metadata": {},
     "output_type": "execute_result"
    }
   ],
   "source": [
    "df = pd.DataFrame({'fruit': ['apple', 'banana', 'orange'] * 3,\n",
    "                   'price': np.random.randint(0, 15, 9),\n",
    "                   'taste': np.random.rand(9)})\n",
    "print(df)\n",
    "\n",
    "df_grpd = df['taste'].groupby(df.fruit)\n",
    "df_grpd.get_group('banana').sort_values().iloc[-2]"
   ]
  },
  {
   "cell_type": "markdown",
   "metadata": {},
   "source": [
    "#### 17. Reemplaza los valores de las diagonales por el valor `0`\n",
    "\n",
    "Input:\n",
    "```\n",
    "df = pd.DataFrame(np.random.randint(1,100, 100).reshape(10, -1))\n",
    "\n",
    "    0   1   2   3   4   5   6   7   8   9\n",
    "0  11  46  26  44  11  62  18  70  68  26\n",
    "1  87  71  52  50  81  43  83  39   3  59\n",
    "2  47  76  93  77  73   2   2  16  14  26\n",
    "3  64  18  74  22  16  37  60   8  66  39\n",
    "4  10  18  39  98  25   8  32   6   3  29\n",
    "5  29  91  27  86  23  84  28  31  97  10\n",
    "6  37  71  70  65   4  72  82  89  12  97\n",
    "7  65  22  97  75  17  10  43  78  12  77\n",
    "8  47  57  96  55  17  83  61  85  26  86\n",
    "9  76  80  28  45  77  12  67  80   7  63\n",
    "```\n",
    "Output:\n",
    "```\n",
    "    0   1   2   3   4   5   6   7   8   9\n",
    "0   0  46  26  44  11  62  18  70  68   0\n",
    "1  87   0  52  50  81  43  83  39   0  59\n",
    "2  47  76   0  77  73   2   2   0  14  26\n",
    "3  64  18  74   0  16  37   0   8  66  39\n",
    "4  10  18  39  98   0   0  32   6   3  29\n",
    "5  29  91  27  86   0   0  28  31  97  10\n",
    "6  37  71  70   0   4  72   0  89  12  97\n",
    "7  65  22   0  75  17  10  43   0  12  77\n",
    "8  47   0  96  55  17  83  61  85   0  86\n",
    "9   0  80  28  45  77  12  67  80   7   0\n",
    "```\n",
    "(*) Los valores pueden variar al ser random"
   ]
  },
  {
   "cell_type": "code",
   "execution_count": 31,
   "metadata": {},
   "outputs": [
    {
     "data": {
      "text/html": [
       "<div>\n",
       "<style scoped>\n",
       "    .dataframe tbody tr th:only-of-type {\n",
       "        vertical-align: middle;\n",
       "    }\n",
       "\n",
       "    .dataframe tbody tr th {\n",
       "        vertical-align: top;\n",
       "    }\n",
       "\n",
       "    .dataframe thead th {\n",
       "        text-align: right;\n",
       "    }\n",
       "</style>\n",
       "<table border=\"1\" class=\"dataframe\">\n",
       "  <thead>\n",
       "    <tr style=\"text-align: right;\">\n",
       "      <th></th>\n",
       "      <th>0</th>\n",
       "      <th>1</th>\n",
       "      <th>2</th>\n",
       "      <th>3</th>\n",
       "      <th>4</th>\n",
       "      <th>5</th>\n",
       "      <th>6</th>\n",
       "      <th>7</th>\n",
       "      <th>8</th>\n",
       "      <th>9</th>\n",
       "    </tr>\n",
       "  </thead>\n",
       "  <tbody>\n",
       "    <tr>\n",
       "      <th>0</th>\n",
       "      <td>0</td>\n",
       "      <td>94</td>\n",
       "      <td>50</td>\n",
       "      <td>71</td>\n",
       "      <td>5</td>\n",
       "      <td>36</td>\n",
       "      <td>51</td>\n",
       "      <td>73</td>\n",
       "      <td>11</td>\n",
       "      <td>0</td>\n",
       "    </tr>\n",
       "    <tr>\n",
       "      <th>1</th>\n",
       "      <td>91</td>\n",
       "      <td>0</td>\n",
       "      <td>82</td>\n",
       "      <td>21</td>\n",
       "      <td>53</td>\n",
       "      <td>3</td>\n",
       "      <td>16</td>\n",
       "      <td>23</td>\n",
       "      <td>0</td>\n",
       "      <td>56</td>\n",
       "    </tr>\n",
       "    <tr>\n",
       "      <th>2</th>\n",
       "      <td>70</td>\n",
       "      <td>36</td>\n",
       "      <td>0</td>\n",
       "      <td>36</td>\n",
       "      <td>32</td>\n",
       "      <td>61</td>\n",
       "      <td>32</td>\n",
       "      <td>0</td>\n",
       "      <td>48</td>\n",
       "      <td>2</td>\n",
       "    </tr>\n",
       "    <tr>\n",
       "      <th>3</th>\n",
       "      <td>56</td>\n",
       "      <td>70</td>\n",
       "      <td>16</td>\n",
       "      <td>0</td>\n",
       "      <td>36</td>\n",
       "      <td>74</td>\n",
       "      <td>0</td>\n",
       "      <td>32</td>\n",
       "      <td>85</td>\n",
       "      <td>75</td>\n",
       "    </tr>\n",
       "    <tr>\n",
       "      <th>4</th>\n",
       "      <td>33</td>\n",
       "      <td>20</td>\n",
       "      <td>77</td>\n",
       "      <td>33</td>\n",
       "      <td>0</td>\n",
       "      <td>0</td>\n",
       "      <td>32</td>\n",
       "      <td>4</td>\n",
       "      <td>36</td>\n",
       "      <td>55</td>\n",
       "    </tr>\n",
       "    <tr>\n",
       "      <th>5</th>\n",
       "      <td>1</td>\n",
       "      <td>12</td>\n",
       "      <td>31</td>\n",
       "      <td>24</td>\n",
       "      <td>0</td>\n",
       "      <td>0</td>\n",
       "      <td>49</td>\n",
       "      <td>34</td>\n",
       "      <td>12</td>\n",
       "      <td>32</td>\n",
       "    </tr>\n",
       "    <tr>\n",
       "      <th>6</th>\n",
       "      <td>65</td>\n",
       "      <td>23</td>\n",
       "      <td>11</td>\n",
       "      <td>0</td>\n",
       "      <td>41</td>\n",
       "      <td>88</td>\n",
       "      <td>0</td>\n",
       "      <td>75</td>\n",
       "      <td>40</td>\n",
       "      <td>61</td>\n",
       "    </tr>\n",
       "    <tr>\n",
       "      <th>7</th>\n",
       "      <td>42</td>\n",
       "      <td>77</td>\n",
       "      <td>0</td>\n",
       "      <td>30</td>\n",
       "      <td>72</td>\n",
       "      <td>68</td>\n",
       "      <td>26</td>\n",
       "      <td>0</td>\n",
       "      <td>10</td>\n",
       "      <td>40</td>\n",
       "    </tr>\n",
       "    <tr>\n",
       "      <th>8</th>\n",
       "      <td>33</td>\n",
       "      <td>0</td>\n",
       "      <td>15</td>\n",
       "      <td>69</td>\n",
       "      <td>2</td>\n",
       "      <td>46</td>\n",
       "      <td>85</td>\n",
       "      <td>14</td>\n",
       "      <td>0</td>\n",
       "      <td>62</td>\n",
       "    </tr>\n",
       "    <tr>\n",
       "      <th>9</th>\n",
       "      <td>0</td>\n",
       "      <td>98</td>\n",
       "      <td>12</td>\n",
       "      <td>72</td>\n",
       "      <td>64</td>\n",
       "      <td>45</td>\n",
       "      <td>95</td>\n",
       "      <td>11</td>\n",
       "      <td>86</td>\n",
       "      <td>0</td>\n",
       "    </tr>\n",
       "  </tbody>\n",
       "</table>\n",
       "</div>"
      ],
      "text/plain": [
       "    0   1   2   3   4   5   6   7   8   9\n",
       "0   0  94  50  71   5  36  51  73  11   0\n",
       "1  91   0  82  21  53   3  16  23   0  56\n",
       "2  70  36   0  36  32  61  32   0  48   2\n",
       "3  56  70  16   0  36  74   0  32  85  75\n",
       "4  33  20  77  33   0   0  32   4  36  55\n",
       "5   1  12  31  24   0   0  49  34  12  32\n",
       "6  65  23  11   0  41  88   0  75  40  61\n",
       "7  42  77   0  30  72  68  26   0  10  40\n",
       "8  33   0  15  69   2  46  85  14   0  62\n",
       "9   0  98  12  72  64  45  95  11  86   0"
      ]
     },
     "execution_count": 31,
     "metadata": {},
     "output_type": "execute_result"
    }
   ],
   "source": [
    "df = pd.DataFrame(np.random.randint(1,100, 100).reshape(10, -1))\n",
    "\n",
    "for i in range(df.shape[0]):\n",
    "    df.iat[i, i] = 0\n",
    "    df.iat[df.shape[0]-i-1, i] = 0\n",
    "    \n",
    "df"
   ]
  },
  {
   "cell_type": "markdown",
   "metadata": {},
   "source": [
    "#### 18. Añade una columna que contenga el mínimo y otra que contenga el máximo valor por fila\n",
    "\n",
    "Input:\n",
    "```\n",
    "df = pd.DataFrame(np.random.randint(1,100, 80).reshape(8, -1))\n",
    "```\n",
    "\n",
    "Output:\n",
    "```\n",
    "     0    1    2    3    4    5    6    7    8    9  min   max\n",
    "0   56   55   58   77   89   98   17   24   39   10   10   98\n",
    "1   43   51   97   32   78   64   91   73   52   50   32   97\n",
    "2   46   84   80   78   12    9   18    5   45   97    5   97\n",
    "3   66   73   45   27   11   67   56   48   89   49   11   89\n",
    "4   37   15   55    5   95    5   81   36   77   59    5   95\n",
    "5   93    1   64   83   97   67   45   53   42   45    1   97\n",
    "6   14   27   46   70   13   83   41   72   72   93   13   93\n",
    "7   97   30   74   66   25   95   12   75   11   67   11   97\n",
    "```\n",
    "(*) Los valores pueden variar al ser random"
   ]
  },
  {
   "cell_type": "code",
   "execution_count": 36,
   "metadata": {},
   "outputs": [
    {
     "data": {
      "text/html": [
       "<div>\n",
       "<style scoped>\n",
       "    .dataframe tbody tr th:only-of-type {\n",
       "        vertical-align: middle;\n",
       "    }\n",
       "\n",
       "    .dataframe tbody tr th {\n",
       "        vertical-align: top;\n",
       "    }\n",
       "\n",
       "    .dataframe thead th {\n",
       "        text-align: right;\n",
       "    }\n",
       "</style>\n",
       "<table border=\"1\" class=\"dataframe\">\n",
       "  <thead>\n",
       "    <tr style=\"text-align: right;\">\n",
       "      <th></th>\n",
       "      <th>0</th>\n",
       "      <th>1</th>\n",
       "      <th>2</th>\n",
       "      <th>3</th>\n",
       "      <th>4</th>\n",
       "      <th>5</th>\n",
       "      <th>6</th>\n",
       "      <th>7</th>\n",
       "      <th>8</th>\n",
       "      <th>9</th>\n",
       "      <th>min</th>\n",
       "      <th>max</th>\n",
       "    </tr>\n",
       "  </thead>\n",
       "  <tbody>\n",
       "    <tr>\n",
       "      <th>0</th>\n",
       "      <td>73</td>\n",
       "      <td>98</td>\n",
       "      <td>49</td>\n",
       "      <td>54</td>\n",
       "      <td>57</td>\n",
       "      <td>12</td>\n",
       "      <td>46</td>\n",
       "      <td>72</td>\n",
       "      <td>42</td>\n",
       "      <td>97</td>\n",
       "      <td>12</td>\n",
       "      <td>98</td>\n",
       "    </tr>\n",
       "    <tr>\n",
       "      <th>1</th>\n",
       "      <td>54</td>\n",
       "      <td>74</td>\n",
       "      <td>5</td>\n",
       "      <td>67</td>\n",
       "      <td>77</td>\n",
       "      <td>8</td>\n",
       "      <td>58</td>\n",
       "      <td>51</td>\n",
       "      <td>73</td>\n",
       "      <td>51</td>\n",
       "      <td>5</td>\n",
       "      <td>77</td>\n",
       "    </tr>\n",
       "    <tr>\n",
       "      <th>2</th>\n",
       "      <td>59</td>\n",
       "      <td>11</td>\n",
       "      <td>59</td>\n",
       "      <td>85</td>\n",
       "      <td>93</td>\n",
       "      <td>77</td>\n",
       "      <td>40</td>\n",
       "      <td>53</td>\n",
       "      <td>47</td>\n",
       "      <td>47</td>\n",
       "      <td>11</td>\n",
       "      <td>93</td>\n",
       "    </tr>\n",
       "    <tr>\n",
       "      <th>3</th>\n",
       "      <td>51</td>\n",
       "      <td>62</td>\n",
       "      <td>61</td>\n",
       "      <td>6</td>\n",
       "      <td>39</td>\n",
       "      <td>7</td>\n",
       "      <td>13</td>\n",
       "      <td>16</td>\n",
       "      <td>90</td>\n",
       "      <td>81</td>\n",
       "      <td>6</td>\n",
       "      <td>90</td>\n",
       "    </tr>\n",
       "    <tr>\n",
       "      <th>4</th>\n",
       "      <td>24</td>\n",
       "      <td>88</td>\n",
       "      <td>14</td>\n",
       "      <td>11</td>\n",
       "      <td>68</td>\n",
       "      <td>69</td>\n",
       "      <td>76</td>\n",
       "      <td>40</td>\n",
       "      <td>68</td>\n",
       "      <td>93</td>\n",
       "      <td>11</td>\n",
       "      <td>93</td>\n",
       "    </tr>\n",
       "    <tr>\n",
       "      <th>5</th>\n",
       "      <td>86</td>\n",
       "      <td>39</td>\n",
       "      <td>27</td>\n",
       "      <td>61</td>\n",
       "      <td>84</td>\n",
       "      <td>21</td>\n",
       "      <td>7</td>\n",
       "      <td>59</td>\n",
       "      <td>43</td>\n",
       "      <td>70</td>\n",
       "      <td>7</td>\n",
       "      <td>86</td>\n",
       "    </tr>\n",
       "    <tr>\n",
       "      <th>6</th>\n",
       "      <td>73</td>\n",
       "      <td>64</td>\n",
       "      <td>28</td>\n",
       "      <td>95</td>\n",
       "      <td>74</td>\n",
       "      <td>13</td>\n",
       "      <td>75</td>\n",
       "      <td>52</td>\n",
       "      <td>39</td>\n",
       "      <td>32</td>\n",
       "      <td>13</td>\n",
       "      <td>95</td>\n",
       "    </tr>\n",
       "    <tr>\n",
       "      <th>7</th>\n",
       "      <td>6</td>\n",
       "      <td>43</td>\n",
       "      <td>37</td>\n",
       "      <td>20</td>\n",
       "      <td>26</td>\n",
       "      <td>28</td>\n",
       "      <td>30</td>\n",
       "      <td>53</td>\n",
       "      <td>39</td>\n",
       "      <td>35</td>\n",
       "      <td>6</td>\n",
       "      <td>53</td>\n",
       "    </tr>\n",
       "  </tbody>\n",
       "</table>\n",
       "</div>"
      ],
      "text/plain": [
       "    0   1   2   3   4   5   6   7   8   9  min  max\n",
       "0  73  98  49  54  57  12  46  72  42  97   12   98\n",
       "1  54  74   5  67  77   8  58  51  73  51    5   77\n",
       "2  59  11  59  85  93  77  40  53  47  47   11   93\n",
       "3  51  62  61   6  39   7  13  16  90  81    6   90\n",
       "4  24  88  14  11  68  69  76  40  68  93   11   93\n",
       "5  86  39  27  61  84  21   7  59  43  70    7   86\n",
       "6  73  64  28  95  74  13  75  52  39  32   13   95\n",
       "7   6  43  37  20  26  28  30  53  39  35    6   53"
      ]
     },
     "execution_count": 36,
     "metadata": {},
     "output_type": "execute_result"
    }
   ],
   "source": [
    "df = pd.DataFrame(np.random.randint(1,100, 80).reshape(8, -1))\n",
    "\n",
    "df['min'] = np.min(df, axis=1)\n",
    "df['max'] = np.max(df, axis=1)\n",
    "\n",
    "df"
   ]
  },
  {
   "cell_type": "markdown",
   "metadata": {},
   "source": [
    "#### 19. Invierte el orden de las filas del dataset\n",
    "\n",
    "Input:\n",
    "```\n",
    "df = pd.DataFrame(np.arange(25).reshape(5, -1))\n",
    "```\n",
    "\n",
    "Output:\n",
    "```\n",
    "Original:\n",
    "    0   1   2   3   4\n",
    "0   0   1   2   3   4\n",
    "1   5   6   7   8   9\n",
    "2  10  11  12  13  14\n",
    "3  15  16  17  18  19\n",
    "4  20  21  22  23  24\n",
    "\n",
    "Reverse:\n",
    "0\t1\t2\t3\t4\n",
    "4\t20\t21\t22\t23\t24\n",
    "3\t15\t16\t17\t18\t19\n",
    "2\t10\t11\t12\t13\t14\n",
    "1\t5\t6\t7\t8\t9\n",
    "0\t0\t1\t2\t3\t4\n",
    "```"
   ]
  },
  {
   "cell_type": "code",
   "execution_count": 41,
   "metadata": {},
   "outputs": [
    {
     "name": "stdout",
     "output_type": "stream",
     "text": [
      "Original:\n",
      "    0   1   2   3   4\n",
      "0   0   1   2   3   4\n",
      "1   5   6   7   8   9\n",
      "2  10  11  12  13  14\n",
      "3  15  16  17  18  19\n",
      "4  20  21  22  23  24\n",
      "\n",
      "Reverse:\n",
      "    0   1   2   3   4\n",
      "4  20  21  22  23  24\n",
      "3  15  16  17  18  19\n",
      "2  10  11  12  13  14\n",
      "1   5   6   7   8   9\n",
      "0   0   1   2   3   4\n",
      "\n"
     ]
    }
   ],
   "source": [
    "df = pd.DataFrame(np.arange(25).reshape(5, -1))\n",
    "print(f'Original:\\n{df}\\n')\n",
    "\n",
    "print(f'Reverse:\\n{df.iloc[::-1, :]}\\n')"
   ]
  },
  {
   "cell_type": "markdown",
   "metadata": {},
   "source": [
    "## Créditos y más ejercicios [aquí](https://www.machinelearningplus.com/python/101-pandas-exercises-python/)"
   ]
  }
 ],
 "metadata": {
  "kernelspec": {
   "display_name": "Python 3",
   "language": "python",
   "name": "python3"
  },
  "language_info": {
   "codemirror_mode": {
    "name": "ipython",
    "version": 3
   },
   "file_extension": ".py",
   "mimetype": "text/x-python",
   "name": "python",
   "nbconvert_exporter": "python",
   "pygments_lexer": "ipython3",
   "version": "3.6.8"
  }
 },
 "nbformat": 4,
 "nbformat_minor": 2
}
