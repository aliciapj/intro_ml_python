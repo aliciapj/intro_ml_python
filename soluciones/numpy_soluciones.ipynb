{
 "cells": [
  {
   "cell_type": "markdown",
   "metadata": {},
   "source": [
    "El objetivo de estos ejercicios es servir de referencia y hacer que apliques los conceptos aprendidos más allá de lo básico. \n",
    "\n",
    "Las preguntas son de 4 niveles de dificultades, siendo L1 el más fácil y L4 el más difícil."
   ]
  },
  {
   "cell_type": "markdown",
   "metadata": {},
   "source": [
    "#### 0. Import numpy as `np` and print the version number."
   ]
  },
  {
   "cell_type": "code",
   "execution_count": 2,
   "metadata": {},
   "outputs": [
    {
     "name": "stdout",
     "output_type": "stream",
     "text": [
      "1.16.2\n"
     ]
    }
   ],
   "source": [
    "import numpy as np\n",
    "print(np.__version__)"
   ]
  },
  {
   "cell_type": "markdown",
   "metadata": {},
   "source": [
    "## L1"
   ]
  },
  {
   "cell_type": "markdown",
   "metadata": {},
   "source": [
    "#### 1. Crea un array de enteros de 1D del `0` al `9`\n",
    "\n",
    "Output: \n",
    "```array([0, 1, 2, 3, 4, 5, 6, 7, 8, 9])```"
   ]
  },
  {
   "cell_type": "code",
   "execution_count": 4,
   "metadata": {},
   "outputs": [
    {
     "data": {
      "text/plain": [
       "array([0, 1, 2, 3, 4, 5, 6, 7, 8])"
      ]
     },
     "execution_count": 4,
     "metadata": {},
     "output_type": "execute_result"
    }
   ],
   "source": [
    "np.array(range(9))"
   ]
  },
  {
   "cell_type": "markdown",
   "metadata": {},
   "source": [
    "#### 2. Crea una matriz de 3x3 con todos sus valores a `True`"
   ]
  },
  {
   "cell_type": "code",
   "execution_count": 5,
   "metadata": {},
   "outputs": [
    {
     "data": {
      "text/plain": [
       "array([[ True,  True,  True],\n",
       "       [ True,  True,  True],\n",
       "       [ True,  True,  True]])"
      ]
     },
     "execution_count": 5,
     "metadata": {},
     "output_type": "execute_result"
    }
   ],
   "source": [
    "np.full((3, 3), True, dtype=bool)"
   ]
  },
  {
   "cell_type": "code",
   "execution_count": 7,
   "metadata": {},
   "outputs": [
    {
     "data": {
      "text/plain": [
       "array([[ True,  True,  True],\n",
       "       [ True,  True,  True],\n",
       "       [ True,  True,  True]])"
      ]
     },
     "execution_count": 7,
     "metadata": {},
     "output_type": "execute_result"
    }
   ],
   "source": [
    "np.ones((3, 3), dtype=bool)"
   ]
  },
  {
   "cell_type": "markdown",
   "metadata": {},
   "source": [
    "#### 4. Muestra los números impares de una lista de enteros del `1` al `9`\n",
    "\n",
    "    Input: `arr = np.array([0, 1, 2, 3, 4, 5, 6, 7, 8, 9])`\n",
    "\n",
    "    Output: `array([1, 3, 5, 7, 9])`"
   ]
  },
  {
   "cell_type": "code",
   "execution_count": 5,
   "metadata": {},
   "outputs": [
    {
     "data": {
      "text/plain": [
       "array([1, 3, 5, 7, 9])"
      ]
     },
     "execution_count": 5,
     "metadata": {},
     "output_type": "execute_result"
    }
   ],
   "source": [
    "arr = np.array([0, 1, 2, 3, 4, 5, 6, 7, 8, 9])\n",
    "arr[arr % 2 == 1]"
   ]
  },
  {
   "cell_type": "markdown",
   "metadata": {},
   "source": [
    "#### 5.2 Reemplaza todos los valores impares por `-1`\n",
    "\n",
    "Input: `arr = np.array([0, 1, 2, 3, 4, 5, 6, 7, 8, 9])`\n",
    "\n",
    "Output: `array([ 0, -1,  2, -1,  4, -1,  6, -1,  8, -1])`"
   ]
  },
  {
   "cell_type": "code",
   "execution_count": 3,
   "metadata": {},
   "outputs": [
    {
     "data": {
      "text/plain": [
       "array([ 0, -1,  2, -1,  4, -1,  6, -1,  8, -1])"
      ]
     },
     "execution_count": 3,
     "metadata": {},
     "output_type": "execute_result"
    }
   ],
   "source": [
    "import numpy as np\n",
    "arr = np.array([0, 1, 2, 3, 4, 5, 6, 7, 8, 9])\n",
    "arr[arr % 2 == 1] = -1\n",
    "arr"
   ]
  },
  {
   "cell_type": "markdown",
   "metadata": {},
   "source": [
    "#### 5.2 Ahora inténtalo _sin cambiar el array original_\n",
    "\n",
    "Input: \n",
    "```arr = np.array([0, 1, 2, 3, 4, 5, 6, 7, 8, 9])```\n",
    "\n",
    "Output: \n",
    "```\n",
    "out\n",
    "    array([ 0, -1,  2, -1,  4, -1,  6, -1,  8, -1])\n",
    "arr\n",
    "    array([0, 1, 2, 3, 4, 5, 6, 7, 8, 9])\n",
    "```\n"
   ]
  },
  {
   "cell_type": "code",
   "execution_count": 16,
   "metadata": {},
   "outputs": [
    {
     "name": "stdout",
     "output_type": "stream",
     "text": [
      "[0 1 2 3 4 5 6 7 8 9]\n",
      "[ 0 -1  2 -1  4 -1  6 -1  8 -1]\n"
     ]
    }
   ],
   "source": [
    "arr = np.array([0, 1, 2, 3, 4, 5, 6, 7, 8, 9])\n",
    "out = np.where(arr % 2 == 1, -1, arr)\n",
    "print(arr)\n",
    "print(out)"
   ]
  },
  {
   "cell_type": "markdown",
   "metadata": {},
   "source": [
    "#### 6.1 Convierte un array de 1D a 2D con 2 filas\n",
    "\n",
    "Input: `np.arange(10)`\n",
    "\n",
    "Output:\n",
    "```\n",
    "array([[0, 1, 2, 3, 4],\n",
    "       [5, 6, 7, 8, 9]])\n",
    "       ```"
   ]
  },
  {
   "cell_type": "code",
   "execution_count": 28,
   "metadata": {},
   "outputs": [
    {
     "data": {
      "text/plain": [
       "array([[0, 1, 2, 3, 4],\n",
       "       [5, 6, 7, 8, 9]])"
      ]
     },
     "execution_count": 28,
     "metadata": {},
     "output_type": "execute_result"
    }
   ],
   "source": [
    "arr = np.arange(10)\n",
    "arr.reshape(2, -1)  # -1 indica que se desconoce el # col"
   ]
  },
  {
   "cell_type": "markdown",
   "metadata": {},
   "source": [
    "#### 6.2 Convierte un array de 1D a 2D con 2 columnas\n",
    "\n",
    "Input: `np.arange(10)`\n",
    "\n",
    "Output:\n",
    "```\n",
    "array([[0, 1],\n",
    "       [2, 3],\n",
    "       [4, 5],\n",
    "       [6, 7],\n",
    "       [8, 9]])\n",
    "       ```"
   ]
  },
  {
   "cell_type": "code",
   "execution_count": 82,
   "metadata": {},
   "outputs": [
    {
     "data": {
      "text/plain": [
       "array([[0, 1],\n",
       "       [2, 3],\n",
       "       [4, 5],\n",
       "       [6, 7],\n",
       "       [8, 9]])"
      ]
     },
     "execution_count": 82,
     "metadata": {},
     "output_type": "execute_result"
    }
   ],
   "source": [
    "arr = np.arange(10)\n",
    "arr.reshape(-1, 2)  # -1 indica que se desconoce el # col"
   ]
  },
  {
   "cell_type": "markdown",
   "metadata": {},
   "source": [
    "#### 7.1 Une estos dos arrays verticalmente\n",
    "\n",
    "Input:\n",
    "```\n",
    "a = np.arange(10).reshape(2,-1)\n",
    "b = np.repeat(1, 10).reshape(2,-1)\n",
    "```\n",
    "\n",
    "Output:\n",
    "```\n",
    "array([[0, 1, 2, 3, 4],\n",
    "       [5, 6, 7, 8, 9],\n",
    "       [1, 1, 1, 1, 1],\n",
    "       [1, 1, 1, 1, 1]])\n",
    "```"
   ]
  },
  {
   "cell_type": "code",
   "execution_count": 80,
   "metadata": {},
   "outputs": [
    {
     "data": {
      "text/plain": [
       "array([[0, 1, 2, 3, 4],\n",
       "       [5, 6, 7, 8, 9],\n",
       "       [1, 1, 1, 1, 1],\n",
       "       [1, 1, 1, 1, 1]])"
      ]
     },
     "execution_count": 80,
     "metadata": {},
     "output_type": "execute_result"
    }
   ],
   "source": [
    "# v1\n",
    "a = np.arange(10).reshape(2,-1)\n",
    "b = np.repeat(1, 10).reshape(2,-1)\n",
    "\n",
    "np.concatenate([a, b], axis=0)"
   ]
  },
  {
   "cell_type": "code",
   "execution_count": 81,
   "metadata": {},
   "outputs": [
    {
     "data": {
      "text/plain": [
       "array([[0, 1, 2, 3, 4],\n",
       "       [5, 6, 7, 8, 9],\n",
       "       [1, 1, 1, 1, 1],\n",
       "       [1, 1, 1, 1, 1]])"
      ]
     },
     "execution_count": 81,
     "metadata": {},
     "output_type": "execute_result"
    }
   ],
   "source": [
    "# v2\n",
    "np.vstack([a, b])"
   ]
  },
  {
   "cell_type": "markdown",
   "metadata": {},
   "source": [
    "#### 7.2 Une estos dos arrays horizontalmente\n",
    "\n",
    "Input:\n",
    "```\n",
    "a = np.arange(10).reshape(2,-1)\n",
    "b = np.repeat(1, 10).reshape(2,-1)\n",
    "```\n",
    "\n",
    "Output:\n",
    "```\n",
    "array([[0, 1, 2, 3, 4, 1, 1, 1, 1, 1],\n",
    "       [5, 6, 7, 8, 9, 1, 1, 1, 1, 1]])\n",
    "```"
   ]
  },
  {
   "cell_type": "code",
   "execution_count": 25,
   "metadata": {},
   "outputs": [
    {
     "data": {
      "text/plain": [
       "array([[0, 1, 2, 3, 4, 1, 1, 1, 1, 1],\n",
       "       [5, 6, 7, 8, 9, 1, 1, 1, 1, 1]])"
      ]
     },
     "execution_count": 25,
     "metadata": {},
     "output_type": "execute_result"
    }
   ],
   "source": [
    "# v1\n",
    "a = np.arange(10).reshape(2,-1)\n",
    "b = np.repeat(1, 10).reshape(2,-1)\n",
    "\n",
    "np.concatenate([a, b], axis=1)"
   ]
  },
  {
   "cell_type": "code",
   "execution_count": 83,
   "metadata": {},
   "outputs": [
    {
     "data": {
      "text/plain": [
       "array([[0, 1, 2, 3, 4, 1, 1, 1, 1, 1],\n",
       "       [5, 6, 7, 8, 9, 1, 1, 1, 1, 1]])"
      ]
     },
     "execution_count": 83,
     "metadata": {},
     "output_type": "execute_result"
    }
   ],
   "source": [
    "# v2\n",
    "np.hstack([a, b])"
   ]
  },
  {
   "cell_type": "markdown",
   "metadata": {},
   "source": [
    "#### 8. Obtén la media, mediana y desviación típica de los elementos del array\n",
    "\n",
    "Input:\n",
    "```\n",
    "arr = np.random.random((5, 3))\n",
    "```\n",
    "\n",
    "Output:\n",
    "```\n",
    "0.4026456309960461 0.27836938509379616 0.29023285811966365\n",
    "```\n",
    "(*) Los números probablemente no coincidan al ser random"
   ]
  },
  {
   "cell_type": "code",
   "execution_count": 96,
   "metadata": {},
   "outputs": [
    {
     "name": "stdout",
     "output_type": "stream",
     "text": [
      "0.4026456309960461 0.27836938509379616 0.29023285811966365\n"
     ]
    }
   ],
   "source": [
    "np.random.seed(100)\n",
    "\n",
    "arr = np.random.random((5, 3))\n",
    "\n",
    "mu = np.mean(arr)\n",
    "med = np.median(arr)\n",
    "sd = np.std(arr)\n",
    "\n",
    "print(mu, med, sd)"
   ]
  },
  {
   "cell_type": "markdown",
   "metadata": {},
   "source": [
    "#### 9. Imprime un array de números decimales mostrando sólo 3 decimales\n",
    "\n",
    "Input:\n",
    "```\n",
    "rand_arr = np.random.random((5,3))\n",
    "```\n",
    "\n",
    "Output:\n",
    "```\n",
    "   array([[ 0.443,  0.109,  0.97 ],\n",
    "          [ 0.388,  0.447,  0.191],\n",
    "          [ 0.891,  0.474,  0.212],\n",
    "          [ 0.609,  0.518,  0.403]])\n",
    "```\n",
    "(*) Los números probablemente no coincidan al ser random"
   ]
  },
  {
   "cell_type": "code",
   "execution_count": 97,
   "metadata": {},
   "outputs": [
    {
     "data": {
      "text/plain": [
       "array([[0.979, 0.812, 0.172],\n",
       "       [0.816, 0.274, 0.432],\n",
       "       [0.94 , 0.818, 0.336],\n",
       "       [0.175, 0.373, 0.006],\n",
       "       [0.252, 0.796, 0.015]])"
      ]
     },
     "execution_count": 97,
     "metadata": {},
     "output_type": "execute_result"
    }
   ],
   "source": [
    "rand_arr = np.random.random((5,3))\n",
    "np.set_printoptions(precision=3)\n",
    "\n",
    "rand_arr"
   ]
  },
  {
   "cell_type": "markdown",
   "metadata": {},
   "source": [
    "## L2"
   ]
  },
  {
   "cell_type": "markdown",
   "metadata": {},
   "source": [
    "#### 10. Secuencia predeterminada sin \"harcoding\"\n",
    "\n",
    "Input:\n",
    "```\n",
    "a = np.array([1,2,3])\n",
    "```\n",
    "\n",
    "Output:\n",
    "```\n",
    "array([1, 1, 1, 2, 2, 2, 3, 3, 3, 1, 2, 3, 1, 2, 3, 1, 2, 3])\n",
    "```"
   ]
  },
  {
   "cell_type": "code",
   "execution_count": 39,
   "metadata": {},
   "outputs": [
    {
     "name": "stdout",
     "output_type": "stream",
     "text": [
      "[1 1 1 2 2 2 3 3 3]\n",
      "[1 2 3 1 2 3 1 2 3]\n",
      "[1 1 1 2 2 2 3 3 3 1 2 3 1 2 3 1 2 3]\n"
     ]
    }
   ],
   "source": [
    "a = np.array([1,2,3])\n",
    "print(np.repeat(a, 3))\n",
    "print(np.tile(a, 3))\n",
    "print(np.concatenate([np.repeat(a, 3), np.tile(a, 3)], axis=0))"
   ]
  },
  {
   "cell_type": "markdown",
   "metadata": {},
   "source": [
    "#### 11. Obtén los elementos comunes de dos arrays\n",
    "\n",
    "\n",
    "Input:\n",
    "```\n",
    "a = np.array([1,2,3,2,3,4,3,4,5,6])\n",
    "b = np.array([7,2,10,2,7,4,9,4,9,8])\n",
    "```\n",
    "\n",
    "Output:\n",
    "```\n",
    "array([2, 4])\n",
    "```"
   ]
  },
  {
   "cell_type": "code",
   "execution_count": 44,
   "metadata": {},
   "outputs": [
    {
     "data": {
      "text/plain": [
       "array([2, 4])"
      ]
     },
     "execution_count": 44,
     "metadata": {},
     "output_type": "execute_result"
    }
   ],
   "source": [
    "a = np.array([1,2,3,2,3,4,3,4,5,6])\n",
    "b = np.array([7,2,10,2,7,4,9,4,9,8])\n",
    "np.intersect1d(a, b)"
   ]
  },
  {
   "cell_type": "markdown",
   "metadata": {},
   "source": [
    "#### 12. Elimina de `a` los elementos que estén en `b`\n",
    "\n",
    "\n",
    "Input:\n",
    "```\n",
    "a = np.array([1,2,3,4,5])\n",
    "b = np.array([5,6,7,8,9])\n",
    "```\n",
    "\n",
    "Output:\n",
    "```\n",
    "array([1,2,3,4])\n",
    "```"
   ]
  },
  {
   "cell_type": "code",
   "execution_count": 47,
   "metadata": {},
   "outputs": [
    {
     "data": {
      "text/plain": [
       "array([1, 2, 3, 4])"
      ]
     },
     "execution_count": 47,
     "metadata": {},
     "output_type": "execute_result"
    }
   ],
   "source": [
    "a = np.array([1,2,3,4,5])\n",
    "b = np.array([5,6,7,8,9])\n",
    "\n",
    "np.setdiff1d(a, b)"
   ]
  },
  {
   "cell_type": "markdown",
   "metadata": {},
   "source": [
    "#### 13. Obtén los índices de los elementos que `a` y `b` tienen en común\n",
    "\n",
    "Input:\n",
    "```\n",
    "a = np.array([1,2,3,2,3,4,3,4,5,6])\n",
    "b = np.array([7,2,10,2,7,4,9,4,9,8])\n",
    "```\n",
    "\n",
    "Output:\n",
    "```\n",
    "(array([1, 3, 5, 7]),)\n",
    "```"
   ]
  },
  {
   "cell_type": "code",
   "execution_count": 50,
   "metadata": {},
   "outputs": [
    {
     "data": {
      "text/plain": [
       "(array([1, 3, 5, 7]),)"
      ]
     },
     "execution_count": 50,
     "metadata": {},
     "output_type": "execute_result"
    }
   ],
   "source": [
    "a = np.array([1,2,3,2,3,4,3,4,5,6])\n",
    "b = np.array([7,2,10,2,7,4,9,4,9,8])\n",
    "\n",
    "np.where(a == b)"
   ]
  },
  {
   "cell_type": "markdown",
   "metadata": {},
   "source": [
    "#### 14. Obtén todos los items entre el 5 y el 10 de `a`\n",
    "\n",
    "Input: \n",
    "```\n",
    "a = np.array([2, 6, 1, 9, 10, 3, 27])\n",
    "```\n",
    "\n",
    "Output:\n",
    "```\n",
    "(array([6, 9, 10]),)\n",
    "```"
   ]
  },
  {
   "cell_type": "code",
   "execution_count": 53,
   "metadata": {},
   "outputs": [
    {
     "data": {
      "text/plain": [
       "array([ 6,  9, 10])"
      ]
     },
     "execution_count": 53,
     "metadata": {},
     "output_type": "execute_result"
    }
   ],
   "source": [
    "a = np.array([2, 6, 1, 9, 10, 3, 27])\n",
    "\n",
    "# v1\n",
    "idx = np.where((a >= 5) & (a <= 10))\n",
    "a[idx]"
   ]
  },
  {
   "cell_type": "code",
   "execution_count": 56,
   "metadata": {},
   "outputs": [
    {
     "data": {
      "text/plain": [
       "array([ 6,  9, 10])"
      ]
     },
     "execution_count": 56,
     "metadata": {},
     "output_type": "execute_result"
    }
   ],
   "source": [
    "# v2\n",
    "a[(a >= 5) & (a <= 10)]"
   ]
  },
  {
   "cell_type": "markdown",
   "metadata": {},
   "source": [
    "#### 15. Intercambia las filas 0 y 1 de la matriz\n",
    "\n",
    "Input:\n",
    "```\n",
    "arr = np.arange(9).reshape(3,3)\n",
    "```\n",
    "\n",
    "Output:\n",
    "```\n",
    "array([[3, 4, 5],\n",
    "       [0, 1, 2],\n",
    "       [6, 7, 8]])\n",
    "```"
   ]
  },
  {
   "cell_type": "code",
   "execution_count": 65,
   "metadata": {},
   "outputs": [
    {
     "data": {
      "text/plain": [
       "array([[3, 4, 5],\n",
       "       [0, 1, 2],\n",
       "       [6, 7, 8]])"
      ]
     },
     "execution_count": 65,
     "metadata": {},
     "output_type": "execute_result"
    }
   ],
   "source": [
    "arr = np.arange(9).reshape(3,3)\n",
    "\n",
    "arr[[1, 0, 2], :]"
   ]
  },
  {
   "cell_type": "code",
   "execution_count": 71,
   "metadata": {},
   "outputs": [
    {
     "data": {
      "text/plain": [
       "array([[1, 0, 2],\n",
       "       [4, 3, 5],\n",
       "       [7, 6, 8]])"
      ]
     },
     "execution_count": 71,
     "metadata": {},
     "output_type": "execute_result"
    }
   ],
   "source": [
    "# aplicado a las columnas\n",
    "arr = np.arange(9).reshape(3,3)\n",
    "\n",
    "arr[:, [1, 0, 2]]"
   ]
  },
  {
   "cell_type": "markdown",
   "metadata": {},
   "source": [
    "#### 16. Invierte el orden de las columnas de un array 2D\n",
    "\n",
    "Input:\n",
    "```\n",
    "arr = np.arange(9).reshape(3,3)\n",
    "```\n",
    "\n",
    "Output:\n",
    "```\n",
    "array([[2, 1, 0],\n",
    "       [5, 4, 3],\n",
    "       [8, 7, 6]])\n",
    "```"
   ]
  },
  {
   "cell_type": "code",
   "execution_count": 69,
   "metadata": {},
   "outputs": [
    {
     "data": {
      "text/plain": [
       "array([[2, 1, 0],\n",
       "       [5, 4, 3],\n",
       "       [8, 7, 6]])"
      ]
     },
     "execution_count": 69,
     "metadata": {},
     "output_type": "execute_result"
    }
   ],
   "source": [
    "arr = np.arange(9).reshape(3,3)\n",
    "\n",
    "arr[:, ::-1]"
   ]
  },
  {
   "cell_type": "code",
   "execution_count": 73,
   "metadata": {},
   "outputs": [
    {
     "data": {
      "text/plain": [
       "array([[6, 7, 8],\n",
       "       [3, 4, 5],\n",
       "       [0, 1, 2]])"
      ]
     },
     "execution_count": 73,
     "metadata": {},
     "output_type": "execute_result"
    }
   ],
   "source": [
    "# aplicado a las filas\n",
    "arr = np.arange(9).reshape(3,3)\n",
    "\n",
    "arr[::-1, :]"
   ]
  },
  {
   "cell_type": "markdown",
   "metadata": {},
   "source": [
    "#### 17.1 Crear un array de 5x3 que contenga números random _enteros_ entre el 5 y el 10"
   ]
  },
  {
   "cell_type": "code",
   "execution_count": 76,
   "metadata": {},
   "outputs": [
    {
     "data": {
      "text/plain": [
       "array([[9, 6, 7],\n",
       "       [7, 8, 6],\n",
       "       [8, 9, 8],\n",
       "       [6, 7, 9],\n",
       "       [5, 8, 6]])"
      ]
     },
     "execution_count": 76,
     "metadata": {},
     "output_type": "execute_result"
    }
   ],
   "source": [
    "np.random.randint(low=5, high=10, size=(5,3))"
   ]
  },
  {
   "cell_type": "markdown",
   "metadata": {},
   "source": [
    "#### 17.2 Crear un array de 5x3 que contenga números _decimales_ random entre el 5 y el 10"
   ]
  },
  {
   "cell_type": "code",
   "execution_count": 79,
   "metadata": {},
   "outputs": [
    {
     "data": {
      "text/plain": [
       "array([[7.30050327, 5.51673517, 6.36576375],\n",
       "       [8.14994359, 8.66458891, 6.65138431],\n",
       "       [6.74338014, 6.63270938, 7.99391921],\n",
       "       [7.64219774, 8.13163679, 7.60109751],\n",
       "       [7.61719161, 8.66062267, 7.88197402]])"
      ]
     },
     "execution_count": 79,
     "metadata": {},
     "output_type": "execute_result"
    }
   ],
   "source": [
    "np.random.randint(low=5, high=10, size=(5,3)) + np.random.random((5,3))"
   ]
  },
  {
   "cell_type": "markdown",
   "metadata": {},
   "source": [
    "#### 18. Encuentra el índice de la 5ª repetición del número 1\n",
    "\n",
    "Input: \n",
    "```\n",
    "x = np.array([1, 2, 1, 1, 3, 4, 3, 1, 1, 2, 1, 1, 2])\n",
    "```\n",
    "\n",
    "Output:\n",
    "```\n",
    "8\n",
    "```\n"
   ]
  },
  {
   "cell_type": "code",
   "execution_count": 102,
   "metadata": {},
   "outputs": [
    {
     "data": {
      "text/plain": [
       "8"
      ]
     },
     "execution_count": 102,
     "metadata": {},
     "output_type": "execute_result"
    }
   ],
   "source": [
    "x = np.array([1, 2, 1, 1, 3, 4, 3, 1, 1, 2, 1, 1, 2])\n",
    "n = 5\n",
    "\n",
    "np.where(x == 1)[0][n-1]"
   ]
  },
  {
   "cell_type": "markdown",
   "metadata": {},
   "source": [
    "#### 19. Elimina los valores NaN de un array\n",
    "\n",
    "Input: \n",
    "```\n",
    "a = np.array([1,2,3,np.nan,5,6,7,np.nan])\n",
    "```\n",
    "\n",
    "Output:\n",
    "```\n",
    "array([ 1.,  2.,  3.,  5.,  6.,  7.])\n",
    "```"
   ]
  },
  {
   "cell_type": "code",
   "execution_count": 3,
   "metadata": {},
   "outputs": [
    {
     "data": {
      "text/plain": [
       "array([1., 2., 3., 5., 6., 7.])"
      ]
     },
     "execution_count": 3,
     "metadata": {},
     "output_type": "execute_result"
    }
   ],
   "source": [
    "a = np.array([1,2,3,np.nan,5,6,7,np.nan])\n",
    "a[~np.isnan(a)]"
   ]
  },
  {
   "cell_type": "markdown",
   "metadata": {},
   "source": [
    "## Créditos y más ejercicios [aquí](https://www.machinelearningplus.com/python/101-numpy-exercises-python/)"
   ]
  },
  {
   "cell_type": "markdown",
   "metadata": {},
   "source": [
    "http://scipy-lectures.org/intro/numpy/exercises.html\n",
    "\n",
    "The data in populations.txt describes the populations of hares and lynxes (and carrots) in northern Canada during 20 years:"
   ]
  },
  {
   "cell_type": "code",
   "execution_count": 21,
   "metadata": {},
   "outputs": [
    {
     "data": {
      "text/plain": [
       "<matplotlib.legend.Legend at 0x7f5b1b41c780>"
      ]
     },
     "execution_count": 21,
     "metadata": {},
     "output_type": "execute_result"
    },
    {
     "data": {
      "image/png": "[encoded data removed]",
      "text/plain": [
       "<Figure size 432x288 with 1 Axes>"
      ]
     },
     "metadata": {
      "needs_background": "light"
     },
     "output_type": "display_data"
    }
   ],
   "source": [
    "data = np.loadtxt('../datasets/populations.txt')\n",
    "year, hares, lynxes, carrots = data.T  # trick: columns to variables\n",
    "\n",
    "import matplotlib.pyplot as plt\n",
    "plt.axes([0.2, 0.1, 0.5, 0.8]) \n",
    "\n",
    "plt.plot(year, hares, year, lynxes, year, carrots) \n",
    "\n",
    "plt.legend(('Hare', 'Lynx', 'Carrot'), loc=(1.05, 0.5)) "
   ]
  },
  {
   "cell_type": "markdown",
   "metadata": {},
   "source": [
    "\n",
    "Computes and print, based on the data in populations.txt…\n",
    "\n",
    "- The mean and std of the populations of each species for the years in the period."
   ]
  },
  {
   "cell_type": "code",
   "execution_count": 11,
   "metadata": {},
   "outputs": [
    {
     "name": "stdout",
     "output_type": "stream",
     "text": [
      "       Hares, Lynxes, Carrots\n",
      "Mean: [34080.95238095 20166.66666667 42400.        ]\n"
     ]
    }
   ],
   "source": [
    "data = np.loadtxt('../datasets/populations.txt')\n",
    "year, hares, lynxes, carrots = data.T\n",
    "populations = data[:,1:]\n",
    "\n",
    "print(\"       Hares, Lynxes, Carrots\")\n",
    "print(\"Mean:\", populations.mean(axis=0))"
   ]
  },
  {
   "cell_type": "markdown",
   "metadata": {},
   "source": [
    "- Which year each species had the largest population.\n"
   ]
  },
  {
   "cell_type": "code",
   "execution_count": 13,
   "metadata": {},
   "outputs": [
    {
     "name": "stdout",
     "output_type": "stream",
     "text": [
      "Max. year: [1903. 1904. 1900.]\n"
     ]
    }
   ],
   "source": [
    "j_max_years = np.argmax(populations, axis=0)\n",
    "print(\"Max. year:\", year[j_max_years])"
   ]
  },
  {
   "cell_type": "markdown",
   "metadata": {},
   "source": [
    "- Which species has the largest population for each year. (Hint: argsort & fancy indexing of np.array(['H', 'L', 'C']))"
   ]
  },
  {
   "cell_type": "code",
   "execution_count": 15,
   "metadata": {},
   "outputs": [
    {
     "name": "stdout",
     "output_type": "stream",
     "text": [
      "Max species:\n",
      "[1900. 1901. 1902. 1903. 1904. 1905. 1906. 1907. 1908. 1909. 1910. 1911.\n",
      " 1912. 1913. 1914. 1915. 1916. 1917. 1918. 1919. 1920.]\n",
      "['Carrot' 'Carrot' 'Hare' 'Hare' 'Lynx' 'Lynx' 'Carrot' 'Carrot' 'Carrot'\n",
      " 'Carrot' 'Carrot' 'Carrot' 'Hare' 'Hare' 'Hare' 'Lynx' 'Carrot' 'Carrot'\n",
      " 'Carrot' 'Carrot' 'Carrot']\n"
     ]
    }
   ],
   "source": [
    "max_species = np.argmax(populations, axis=1)\n",
    "species = np.array(['Hare', 'Lynx', 'Carrot'])\n",
    "print(\"Max species:\")\n",
    "print(year)\n",
    "print(species[max_species])"
   ]
  },
  {
   "cell_type": "markdown",
   "metadata": {},
   "source": [
    "- Which years any of the populations is above 50000. (Hint: comparisons and np.any)"
   ]
  },
  {
   "cell_type": "code",
   "execution_count": 16,
   "metadata": {},
   "outputs": [
    {
     "name": "stdout",
     "output_type": "stream",
     "text": [
      "Any above 50000: [1902. 1903. 1904. 1912. 1913. 1914. 1915.]\n"
     ]
    }
   ],
   "source": [
    "above_50000 = np.any(populations > 50000, axis=1)\n",
    "print(\"Any above 50000:\", year[above_50000])"
   ]
  },
  {
   "cell_type": "markdown",
   "metadata": {},
   "source": [
    "- The top 2 years for each species when they had the lowest populations. (Hint: argsort, fancy indexing)"
   ]
  },
  {
   "cell_type": "code",
   "execution_count": 17,
   "metadata": {},
   "outputs": [
    {
     "name": "stdout",
     "output_type": "stream",
     "text": [
      "Top 2 years with lowest populations for each:\n",
      "[[1917. 1900. 1916.]\n",
      " [1916. 1901. 1903.]]\n"
     ]
    }
   ],
   "source": [
    "j_top_2 = np.argsort(populations, axis=0)[:2]\n",
    "print(\"Top 2 years with lowest populations for each:\")\n",
    "print(year[j_top_2])"
   ]
  },
  {
   "cell_type": "markdown",
   "metadata": {},
   "source": [
    "- Compare (plot) the change in hare population (see help(np.gradient)) and the number of lynxes. Check correlation (see help(np.corrcoef))."
   ]
  },
  {
   "cell_type": "code",
   "execution_count": 19,
   "metadata": {},
   "outputs": [
    {
     "name": "stdout",
     "output_type": "stream",
     "text": [
      "diff(Hares) vs. Lynxes correlation -0.9179248480315341\n"
     ]
    },
    {
     "data": {
      "text/plain": [
       "[<matplotlib.lines.Line2D at 0x7f5b1b492a58>,\n",
       " <matplotlib.lines.Line2D at 0x7f5b1b492be0>]"
      ]
     },
     "execution_count": 19,
     "metadata": {},
     "output_type": "execute_result"
    },
    {
     "data": {
      "image/png": "[encoded data removed]",
      "text/plain": [
       "<Figure size 432x288 with 1 Axes>"
      ]
     },
     "metadata": {
      "needs_background": "light"
     },
     "output_type": "display_data"
    }
   ],
   "source": [
    "hare_grad = np.gradient(hares, 1.0)\n",
    "print(\"diff(Hares) vs. Lynxes correlation\", np.corrcoef(hare_grad, lynxes)[0,1])\n",
    "\n",
    "import matplotlib.pyplot as plt\n",
    "plt.plot(year, hare_grad, year, -lynxes)\n",
    "# plt.savefig('plot.png')"
   ]
  }
 ],
 "metadata": {
  "kernelspec": {
   "display_name": "Python 3",
   "language": "python",
   "name": "python3"
  },
  "language_info": {
   "codemirror_mode": {
    "name": "ipython",
    "version": 3
   },
   "file_extension": ".py",
   "mimetype": "text/x-python",
   "name": "python",
   "nbconvert_exporter": "python",
   "pygments_lexer": "ipython3",
   "version": "3.6.8"
  }
 },
 "nbformat": 4,
 "nbformat_minor": 2
}
